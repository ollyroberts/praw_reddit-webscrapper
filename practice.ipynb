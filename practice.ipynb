{
 "metadata": {
  "language_info": {
   "codemirror_mode": {
    "name": "ipython",
    "version": 3
   },
   "file_extension": ".py",
   "mimetype": "text/x-python",
   "name": "python",
   "nbconvert_exporter": "python",
   "pygments_lexer": "ipython3",
   "version": "3.8.5-final"
  },
  "orig_nbformat": 2,
  "kernelspec": {
   "name": "python385jvsc74a57bd0c4e9046e7e54f558f0c91a4d79b14e63b096db23c42f8808569b8a719a265f3b",
   "display_name": "Python 3.8.5 32-bit ('praw_venv')"
  },
  "metadata": {
   "interpreter": {
    "hash": "c4e9046e7e54f558f0c91a4d79b14e63b096db23c42f8808569b8a719a265f3b"
   }
  }
 },
 "nbformat": 4,
 "nbformat_minor": 2,
 "cells": [
  {
   "cell_type": "code",
   "execution_count": 1,
   "metadata": {},
   "outputs": [],
   "source": [
    "import praw\n",
    "reddit = praw.Reddit(client_id='XIXqd1OwpCjbcA', client_secret='CCRK_pFAuc3aEwsgqDfzifq26QHU4A', user_agent='Olly WebScraping')"
   ]
  },
  {
   "cell_type": "code",
   "execution_count": null,
   "metadata": {},
   "outputs": [],
   "source": []
  }
 ]
}